{
  "nbformat": 4,
  "nbformat_minor": 0,
  "metadata": {
    "kernelspec": {
      "display_name": "Python 3",
      "language": "python",
      "name": "python3"
    },
    "language_info": {
      "codemirror_mode": {
        "name": "ipython",
        "version": 3
      },
      "file_extension": ".py",
      "mimetype": "text/x-python",
      "name": "python",
      "nbconvert_exporter": "python",
      "pygments_lexer": "ipython3",
      "version": "3.7.8"
    },
    "colab": {
      "name": "test_phonemizer.ipynb",
      "provenance": [],
      "toc_visible": true
    }
  },
  "cells": [
    {
      "cell_type": "code",
      "metadata": {
        "id": "L0J9AICYUkaC",
        "outputId": "087cab28-dd28-44a8-dc7b-28d21f7b3543",
        "colab": {
          "base_uri": "https://localhost:8080/"
        }
      },
      "source": [
        "!git clone https://github.com/hamedhemati/Tacotron-2-Persian\n",
        "%cd Tacotron-2-Persian"
      ],
      "execution_count": 2,
      "outputs": [
        {
          "output_type": "stream",
          "text": [
            "Cloning into 'Tacotron-2-Persian'...\n",
            "remote: Enumerating objects: 130, done.\u001b[K\n",
            "remote: Counting objects: 100% (130/130), done.\u001b[K\n",
            "remote: Compressing objects: 100% (97/97), done.\u001b[K\n",
            "remote: Total 130 (delta 35), reused 110 (delta 24), pack-reused 0\u001b[K\n",
            "Receiving objects: 100% (130/130), 249.88 KiB | 492.00 KiB/s, done.\n",
            "Resolving deltas: 100% (35/35), done.\n",
            "/content/Tacotron-2-Persian\n"
          ],
          "name": "stdout"
        }
      ]
    },
    {
      "cell_type": "code",
      "metadata": {
        "id": "z3NL3v64VEfA",
        "outputId": "8e75f68b-189f-4a12-a602-ba5db13cb9c3",
        "colab": {
          "base_uri": "https://localhost:8080/"
        }
      },
      "source": [
        "!find -name tac2persian\n",
        "!pip install segments\n",
        "!apt-get install espeak\n",
        "%tensorflow_version 1.x\n",
        "\n",
        "import sys\n",
        "import os\n",
        "import numpy as np\n",
        "import tensorflow as tf\n",
        "sys.path.append('/content/Tacotron-2-Persian/scripts')\n",
        "sys.path.append('/content/Tacotron-2-Persian/tac2persian')\n"
      ],
      "execution_count": 12,
      "outputs": [
        {
          "output_type": "stream",
          "text": [
            "./tac2persian\n",
            "Requirement already satisfied: segments in /usr/local/lib/python3.6/dist-packages (2.2.0)\n",
            "Requirement already satisfied: csvw>=1.5.6 in /usr/local/lib/python3.6/dist-packages (from segments) (1.10.0)\n",
            "Requirement already satisfied: regex in /usr/local/lib/python3.6/dist-packages (from segments) (2019.12.20)\n",
            "Requirement already satisfied: clldutils>=1.7.3 in /usr/local/lib/python3.6/dist-packages (from segments) (3.6.0)\n",
            "Requirement already satisfied: attrs>=18.1 in /usr/local/lib/python3.6/dist-packages (from csvw>=1.5.6->segments) (20.3.0)\n",
            "Requirement already satisfied: isodate in /usr/local/lib/python3.6/dist-packages (from csvw>=1.5.6->segments) (0.6.0)\n",
            "Requirement already satisfied: rfc3986 in /usr/local/lib/python3.6/dist-packages (from csvw>=1.5.6->segments) (1.4.0)\n",
            "Requirement already satisfied: python-dateutil in /usr/local/lib/python3.6/dist-packages (from csvw>=1.5.6->segments) (2.8.1)\n",
            "Requirement already satisfied: uritemplate>=3.0.0 in /usr/local/lib/python3.6/dist-packages (from csvw>=1.5.6->segments) (3.0.1)\n",
            "Requirement already satisfied: tabulate>=0.7.7 in /usr/local/lib/python3.6/dist-packages (from clldutils>=1.7.3->segments) (0.8.7)\n",
            "Requirement already satisfied: colorlog in /usr/local/lib/python3.6/dist-packages (from clldutils>=1.7.3->segments) (4.7.2)\n",
            "Requirement already satisfied: six in /usr/local/lib/python3.6/dist-packages (from isodate->csvw>=1.5.6->segments) (1.15.0)\n",
            "Reading package lists... Done\n",
            "Building dependency tree       \n",
            "Reading state information... Done\n",
            "The following additional packages will be installed:\n",
            "  espeak-data libespeak1 libportaudio2 libsonic0\n",
            "The following NEW packages will be installed:\n",
            "  espeak espeak-data libespeak1 libportaudio2 libsonic0\n",
            "0 upgraded, 5 newly installed, 0 to remove and 13 not upgraded.\n",
            "Need to get 1,219 kB of archives.\n",
            "After this operation, 3,031 kB of additional disk space will be used.\n",
            "Get:1 http://archive.ubuntu.com/ubuntu bionic/universe amd64 libportaudio2 amd64 19.6.0-1 [64.6 kB]\n",
            "Get:2 http://archive.ubuntu.com/ubuntu bionic/main amd64 libsonic0 amd64 0.2.0-6 [13.4 kB]\n",
            "Get:3 http://archive.ubuntu.com/ubuntu bionic/universe amd64 espeak-data amd64 1.48.04+dfsg-5 [934 kB]\n",
            "Get:4 http://archive.ubuntu.com/ubuntu bionic/universe amd64 libespeak1 amd64 1.48.04+dfsg-5 [145 kB]\n",
            "Get:5 http://archive.ubuntu.com/ubuntu bionic/universe amd64 espeak amd64 1.48.04+dfsg-5 [61.6 kB]\n",
            "Fetched 1,219 kB in 2s (566 kB/s)\n",
            "Selecting previously unselected package libportaudio2:amd64.\n",
            "(Reading database ... 146374 files and directories currently installed.)\n",
            "Preparing to unpack .../libportaudio2_19.6.0-1_amd64.deb ...\n",
            "Unpacking libportaudio2:amd64 (19.6.0-1) ...\n",
            "Selecting previously unselected package libsonic0:amd64.\n",
            "Preparing to unpack .../libsonic0_0.2.0-6_amd64.deb ...\n",
            "Unpacking libsonic0:amd64 (0.2.0-6) ...\n",
            "Selecting previously unselected package espeak-data:amd64.\n",
            "Preparing to unpack .../espeak-data_1.48.04+dfsg-5_amd64.deb ...\n",
            "Unpacking espeak-data:amd64 (1.48.04+dfsg-5) ...\n",
            "Selecting previously unselected package libespeak1:amd64.\n",
            "Preparing to unpack .../libespeak1_1.48.04+dfsg-5_amd64.deb ...\n",
            "Unpacking libespeak1:amd64 (1.48.04+dfsg-5) ...\n",
            "Selecting previously unselected package espeak.\n",
            "Preparing to unpack .../espeak_1.48.04+dfsg-5_amd64.deb ...\n",
            "Unpacking espeak (1.48.04+dfsg-5) ...\n",
            "Setting up libportaudio2:amd64 (19.6.0-1) ...\n",
            "Setting up espeak-data:amd64 (1.48.04+dfsg-5) ...\n",
            "Setting up libsonic0:amd64 (0.2.0-6) ...\n",
            "Setting up libespeak1:amd64 (1.48.04+dfsg-5) ...\n",
            "Setting up espeak (1.48.04+dfsg-5) ...\n",
            "Processing triggers for man-db (2.8.3-2ubuntu0.1) ...\n",
            "Processing triggers for libc-bin (2.27-3ubuntu1.3) ...\n",
            "/sbin/ldconfig.real: /usr/local/lib/python3.6/dist-packages/ideep4py/lib/libmkldnn.so.0 is not a symbolic link\n",
            "\n"
          ],
          "name": "stdout"
        }
      ]
    },
    {
      "cell_type": "markdown",
      "metadata": {
        "id": "1oPl7H-6Uhlm"
      },
      "source": [
        "import sys\n",
        "sys.path.append(\"../\")"
      ]
    },
    {
      "cell_type": "code",
      "metadata": {
        "id": "DGXWvOPuUhlu"
      },
      "source": [
        "from tac2persian.utils.g2p.g2p import Grapheme2Phoneme"
      ],
      "execution_count": 8,
      "outputs": []
    },
    {
      "cell_type": "code",
      "metadata": {
        "id": "svNlSfp1Uhlv"
      },
      "source": [
        "g2p = Grapheme2Phoneme()"
      ],
      "execution_count": 9,
      "outputs": []
    },
    {
      "cell_type": "markdown",
      "metadata": {
        "id": "wPUGgIVlUhlv"
      },
      "source": [
        "### Test phonemizer with a Persian sentence"
      ]
    },
    {
      "cell_type": "code",
      "metadata": {
        "id": "fr8ueHYSUhlw",
        "outputId": "4015b431-27cd-4468-c6d1-99d457d099f1",
        "colab": {
          "base_uri": "https://localhost:8080/"
        }
      },
      "source": [
        "persian_text = \"دلا نزد کسی بنشین که او از دل خبر دارد.\"\n",
        "print(\"Phonemizer's output:\")\n",
        "print(g2p.text_to_phone(persian_text, language=\"fa\"))\n"
      ],
      "execution_count": 19,
      "outputs": [
        {
          "output_type": "stream",
          "text": [
            "Phonemizer's output:\n",
            "dˈelɑ nˈazd kˈasi bˈenʃin kˈeː ˈuː az dˈel xˈabar dˈɑrad .\n"
          ],
          "name": "stdout"
        }
      ]
    },
    {
      "cell_type": "markdown",
      "metadata": {
        "id": "NDK2rcMIUhlz"
      },
      "source": [
        "### Add diacritics for fixing pronounciations"
      ]
    },
    {
      "cell_type": "code",
      "metadata": {
        "id": "KTPxInFrUhl0",
        "outputId": "6f5bac5f-5b8e-4958-d5a0-eee49160e269",
        "colab": {
          "base_uri": "https://localhost:8080/"
        }
      },
      "source": [
        "print(\"Phonemization wiht diacritics: \")\n",
        "print(g2p.text_to_phone(persian_text, language=\"fa\"))"
      ],
      "execution_count": 20,
      "outputs": [
        {
          "output_type": "stream",
          "text": [
            "Phonemization wiht diacritics: \n",
            "dˈelɑ nˈazd kˈasi bˈenʃin kˈeː ˈuː az dˈel xˈabar dˈɑrad .\n"
          ],
          "name": "stdout"
        }
      ]
    },
    {
      "cell_type": "markdown",
      "metadata": {
        "id": "wekg7NNHUhl0"
      },
      "source": [
        "### Get sequence of indices after phonemization"
      ]
    },
    {
      "cell_type": "code",
      "metadata": {
        "id": "3p4FlEpLUhl1",
        "outputId": "c5339de7-49af-41f3-a820-2e9e62603000",
        "colab": {
          "base_uri": "https://localhost:8080/"
        }
      },
      "source": [
        "print(g2p.text_to_sequence(persian_text, language=\"fa\"))"
      ],
      "execution_count": 21,
      "outputs": [
        {
          "output_type": "stream",
          "text": [
            "[4, 106, 5, 11, 38, 116, 13, 106, 1, 25, 4, 116, 10, 106, 1, 18, 8, 116, 2, 106, 5, 13, 83, 8, 13, 116, 10, 106, 5, 108, 116, 106, 20, 108, 116, 1, 25, 116, 4, 106, 5, 11, 116, 23, 106, 1, 2, 1, 17, 116, 4, 106, 38, 17, 1, 4, 116, 117]\n"
          ],
          "name": "stdout"
        }
      ]
    },
    {
      "cell_type": "markdown",
      "metadata": {
        "id": "8gjUaXRvUhl2"
      },
      "source": [
        "### Test bilingual mode"
      ]
    },
    {
      "cell_type": "code",
      "metadata": {
        "id": "nfVq11FyUhl3",
        "outputId": "6e946b65-bf6a-42dd-c030-da8b6f0dffd3",
        "colab": {
          "base_uri": "https://localhost:8080/"
        }
      },
      "source": [
        "g2p.set_bilingual_languages(first_lang=\"fa\", second_lang=\"en-us\")\n",
        "# You need to put the English between two asterisks\n",
        "bilingual_text = \"با استفاده از *Tacotron* میتوان متن را به صوت تبدیل کرد.\"\n",
        "print(g2p.text_to_phone(bilingual_text, language=\"bilingual\"))\n"
      ],
      "execution_count": 22,
      "outputs": [
        {
          "output_type": "stream",
          "text": [
            "bɑ ˌestefˈɑdeː ˈaz tˈækətɹˌɑːn mitˈavɑn mˈatn rɑ beː sˈoːt tˈabdil kˈard .\n"
          ],
          "name": "stdout"
        }
      ]
    },
    {
      "cell_type": "code",
      "metadata": {
        "id": "pLCGLj_LUhl4"
      },
      "source": [
        ""
      ],
      "execution_count": null,
      "outputs": []
    }
  ]
}
